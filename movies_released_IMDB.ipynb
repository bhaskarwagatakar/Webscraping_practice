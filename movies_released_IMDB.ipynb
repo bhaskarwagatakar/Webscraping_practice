{
 "cells": [
  {
   "cell_type": "code",
   "execution_count": 1,
   "metadata": {},
   "outputs": [
    {
     "data": {
      "text/plain": [
       "<div class=\"lister-item mode-advanced\">\n",
       "<div class=\"lister-top-right\">\n",
       "<div class=\"ribbonize\" data-caller=\"filmosearch\" data-tconst=\"tt3315342\"></div>\n",
       "</div>\n",
       "<div class=\"lister-item-image float-left\">\n",
       "<a href=\"/title/tt3315342/\"> <img alt=\"Logan\" class=\"loadlate\" data-tconst=\"tt3315342\" height=\"98\" loadlate=\"https://m.media-amazon.com/images/M/MV5BYzc5MTU4N2EtYTkyMi00NjdhLTg3NWEtMTY4OTEyMzJhZTAzXkEyXkFqcGdeQXVyNjc1NTYyMjg@._V1_UX67_CR0,0,67,98_AL_.jpg\" src=\"https://m.media-amazon.com/images/S/sash/4FyxwxECzL-U1J8.png\" width=\"67\"/>\n",
       "</a> </div>\n",
       "<div class=\"lister-item-content\">\n",
       "<h3 class=\"lister-item-header\">\n",
       "<span class=\"lister-item-index unbold text-primary\">1.</span>\n",
       "<a href=\"/title/tt3315342/\">Logan</a>\n",
       "<span class=\"lister-item-year text-muted unbold\">(2017)</span>\n",
       "</h3>\n",
       "<p class=\"text-muted\">\n",
       "<span class=\"certificate\">A</span>\n",
       "<span class=\"ghost\">|</span>\n",
       "<span class=\"runtime\">137 min</span>\n",
       "<span class=\"ghost\">|</span>\n",
       "<span class=\"genre\">\n",
       "Action, Drama, Sci-Fi            </span>\n",
       "</p>\n",
       "<div class=\"ratings-bar\">\n",
       "<div class=\"inline-block ratings-imdb-rating\" data-value=\"8.1\" name=\"ir\">\n",
       "<span class=\"global-sprite rating-star imdb-rating\"></span>\n",
       "<strong>8.1</strong>\n",
       "</div>\n",
       "<div class=\"inline-block ratings-user-rating\">\n",
       "<span class=\"userRatingValue\" data-tconst=\"tt3315342\" id=\"urv_tt3315342\">\n",
       "<span class=\"global-sprite rating-star no-rating\"></span>\n",
       "<span class=\"rate\" data-no-rating=\"Rate this\" data-value=\"0\" name=\"ur\">Rate this</span>\n",
       "</span>\n",
       "<div class=\"starBarWidget\" id=\"sb_tt3315342\">\n",
       "<div class=\"rating rating-list\" data-auth=\"\" data-ga-identifier=\"\" data-starbar-class=\"rating-list\" data-user=\"\" id=\"tt3315342|imdb|8.1|8.1|adv_li_tt||advsearch|title\" itemprop=\"aggregateRating\" itemscope=\"\" itemtype=\"http://schema.org/AggregateRating\" title=\"Users rated this 8.1/10 (650,380 votes) - click stars to rate\">\n",
       "<meta content=\"8.1\" itemprop=\"ratingValue\"/>\n",
       "<meta content=\"10\" itemprop=\"bestRating\"/>\n",
       "<meta content=\"650380\" itemprop=\"ratingCount\"/>\n",
       "<span class=\"rating-bg\"> </span>\n",
       "<span class=\"rating-imdb\" style=\"width: 113.4px\"> </span>\n",
       "<span class=\"rating-stars\">\n",
       "<a href=\"/register/login?why=vote\" rel=\"nofollow\" title=\"Register or login to rate this title\"><span>1</span></a>\n",
       "<a href=\"/register/login?why=vote\" rel=\"nofollow\" title=\"Register or login to rate this title\"><span>2</span></a>\n",
       "<a href=\"/register/login?why=vote\" rel=\"nofollow\" title=\"Register or login to rate this title\"><span>3</span></a>\n",
       "<a href=\"/register/login?why=vote\" rel=\"nofollow\" title=\"Register or login to rate this title\"><span>4</span></a>\n",
       "<a href=\"/register/login?why=vote\" rel=\"nofollow\" title=\"Register or login to rate this title\"><span>5</span></a>\n",
       "<a href=\"/register/login?why=vote\" rel=\"nofollow\" title=\"Register or login to rate this title\"><span>6</span></a>\n",
       "<a href=\"/register/login?why=vote\" rel=\"nofollow\" title=\"Register or login to rate this title\"><span>7</span></a>\n",
       "<a href=\"/register/login?why=vote\" rel=\"nofollow\" title=\"Register or login to rate this title\"><span>8</span></a>\n",
       "<a href=\"/register/login?why=vote\" rel=\"nofollow\" title=\"Register or login to rate this title\"><span>9</span></a>\n",
       "<a href=\"/register/login?why=vote\" rel=\"nofollow\" title=\"Register or login to rate this title\"><span>10</span></a>\n",
       "</span>\n",
       "<span class=\"rating-rating\"><span class=\"value\">8.1</span><span class=\"grey\">/</span><span class=\"grey\">10</span></span>\n",
       "<span class=\"rating-cancel\"><a href=\"/title/tt3315342/vote?v=X;k=\" rel=\"nofollow\" title=\"Delete\"><span>X</span></a></span>\n",
       " </div>\n",
       "</div>\n",
       "</div>\n",
       "<div class=\"inline-block ratings-metascore\">\n",
       "<span class=\"metascore favorable\">77        </span>\n",
       "        Metascore\n",
       "            </div>\n",
       "</div>\n",
       "<p class=\"text-muted\">\n",
       "    In a future where mutants are nearly extinct, an elderly and weary Logan leads a quiet life. But when Laura, a mutant child pursued by scientists, comes to him for help, he must get her to safety.</p>\n",
       "<p class=\"\">\n",
       "    Director:\n",
       "<a href=\"/name/nm0003506/\">James Mangold</a>\n",
       "<span class=\"ghost\">|</span> \n",
       "    Stars:\n",
       "<a href=\"/name/nm0413168/\">Hugh Jackman</a>, \n",
       "<a href=\"/name/nm0001772/\">Patrick Stewart</a>, \n",
       "<a href=\"/name/nm6748436/\">Dafne Keen</a>, \n",
       "<a href=\"/name/nm2933542/\">Boyd Holbrook</a>\n",
       "</p>\n",
       "<p class=\"sort-num_votes-visible\">\n",
       "<span class=\"text-muted\">Votes:</span>\n",
       "<span data-value=\"650380\" name=\"nv\">650,380</span>\n",
       "<span class=\"ghost\">|</span> <span class=\"text-muted\">Gross:</span>\n",
       "<span data-value=\"226,277,068\" name=\"nv\">$226.28M</span>\n",
       "</p>\n",
       "</div>\n",
       "</div>"
      ]
     },
     "execution_count": 1,
     "metadata": {},
     "output_type": "execute_result"
    }
   ],
   "source": [
    "from bs4 import BeautifulSoup\n",
    "import requests\n",
    "url=\"https://www.imdb.com/search/title/?release_date=2017-01-01,2017-12-31&sort=num_votes,desc&start=1&ref_=adv_nxt\"\n",
    "page=requests.get(url)\n",
    "soup=BeautifulSoup(page.content,'lxml')\n",
    "movies=soup.find_all(class_=\"lister-item mode-advanced\")\n",
    "first=movies[0]\n",
    "first"
   ]
  },
  {
   "cell_type": "code",
   "execution_count": 14,
   "metadata": {},
   "outputs": [
    {
     "data": {
      "text/plain": [
       "'77'"
      ]
     },
     "execution_count": 14,
     "metadata": {},
     "output_type": "execute_result"
    }
   ],
   "source": [
    "first.find(class_=\"ratings-bar\").find(class_=\"metascore favorable\").get_text().strip()"
   ]
  },
  {
   "cell_type": "code",
   "execution_count": 17,
   "metadata": {},
   "outputs": [
    {
     "data": {
      "text/plain": [
       "'1.Logan(2017)'"
      ]
     },
     "execution_count": 17,
     "metadata": {},
     "output_type": "execute_result"
    }
   ],
   "source": [
    "name=first.find(class_=\"lister-item-header\").get_text().replace('\\n','')\n",
    "name"
   ]
  },
  {
   "cell_type": "code",
   "execution_count": 19,
   "metadata": {},
   "outputs": [
    {
     "data": {
      "text/plain": [
       "'8.1'"
      ]
     },
     "execution_count": 19,
     "metadata": {},
     "output_type": "execute_result"
    }
   ],
   "source": [
    "rate=first.find(class_=\"inline-block ratings-imdb-rating\").get_text().strip()\n",
    "rate"
   ]
  },
  {
   "cell_type": "code",
   "execution_count": 25,
   "metadata": {},
   "outputs": [
    {
     "data": {
      "text/plain": [
       "'77'"
      ]
     },
     "execution_count": 25,
     "metadata": {},
     "output_type": "execute_result"
    }
   ],
   "source": [
    "meta=first.find(class_=\"inline-block ratings-metascore\").get_text().strip('\\n Metascore')\n",
    "meta"
   ]
  },
  {
   "cell_type": "code",
   "execution_count": 33,
   "metadata": {},
   "outputs": [
    {
     "data": {
      "text/plain": [
       "'650380'"
      ]
     },
     "execution_count": 33,
     "metadata": {},
     "output_type": "execute_result"
    }
   ],
   "source": [
    "vote=first.find(class_=\"sort-num_votes-visible\").get_text().replace('\\n','').split('| ')[0].split(':')[1].replace(',','')\n",
    "vote"
   ]
  },
  {
   "cell_type": "code",
   "execution_count": 35,
   "metadata": {},
   "outputs": [
    {
     "data": {
      "text/plain": [
       "'$226.28M'"
      ]
     },
     "execution_count": 35,
     "metadata": {},
     "output_type": "execute_result"
    }
   ],
   "source": [
    "gross=first.find(class_=\"sort-num_votes-visible\").get_text().replace('\\n','').split('| ')[1].split(':')[1]\n",
    "gross"
   ]
  },
  {
   "cell_type": "code",
   "execution_count": 44,
   "metadata": {},
   "outputs": [],
   "source": [
    "names,ratings,metascores,votes,gross=[],[],[],[],[]\n",
    "for i in range(1,301,50):\n",
    "    url=f\"https://www.imdb.com/search/title/?release_date=2017-01-01,2017-12-31&sort=num_votes,desc&start={i}&ref_=adv_nxt\"\n",
    "    page=requests.get(url)\n",
    "    soup=BeautifulSoup(page.content,'lxml')\n",
    "    movies=soup.find_all(class_=\"lister-item mode-advanced\")\n",
    "    for d in movies:\n",
    "        if d.find(class_=\"inline-block ratings-metascore\") !=None:\n",
    "            names.append(d.find(class_=\"lister-item-header\").get_text().replace('\\n',''))\n",
    "            ratings.append(d.find(class_=\"inline-block ratings-imdb-rating\").get_text().strip())\n",
    "            metascores.append(d.find(class_=\"inline-block ratings-metascore\").get_text().strip('\\n Metascore'))\n",
    "            if len(d.find(class_=\"sort-num_votes-visible\").get_text().replace('\\n','').split('| '))==2:\n",
    "                votes.append(d.find(class_=\"sort-num_votes-visible\").get_text().replace('\\n','').split('| ')[0].split(':')[1].replace(',',''))\n",
    "                gross.append(d.find(class_=\"sort-num_votes-visible\").get_text().replace('\\n','').split('| ')[1].split(':')[1])\n",
    "            else:\n",
    "                votes.append(d.find(class_=\"sort-num_votes-visible\").get_text().replace('\\n','').split('| ')[0].split(':')[1].replace(',',''))\n",
    "                gross.append(None)\n",
    "        else:\n",
    "            names.append(d.find(class_=\"lister-item-header\").get_text().replace('\\n',''))\n",
    "            ratings.append(d.find(class_=\"inline-block ratings-imdb-rating\").get_text().strip())\n",
    "            metascores.append(None)\n",
    "            if len(d.find(class_=\"sort-num_votes-visible\").get_text().replace('\\n','').split('| '))==2:\n",
    "                votes.append(d.find(class_=\"sort-num_votes-visible\").get_text().replace('\\n','').split('| ')[0].split(':')[1].replace(',',''))\n",
    "                gross.append(d.find(class_=\"sort-num_votes-visible\").get_text().replace('\\n','').split('| ')[1].split(':')[1])\n",
    "            else:\n",
    "                votes.append(d.find(class_=\"sort-num_votes-visible\").get_text().replace('\\n','').split('| ')[0].split(':')[1].replace(',',''))\n",
    "                gross.append(None)"
   ]
  },
  {
   "cell_type": "code",
   "execution_count": 45,
   "metadata": {},
   "outputs": [
    {
     "data": {
      "text/plain": [
       "(300, 300, 300, 300, 300)"
      ]
     },
     "execution_count": 45,
     "metadata": {},
     "output_type": "execute_result"
    }
   ],
   "source": [
    "len(names),len(ratings),len(metascores),len(votes),len(gross)"
   ]
  },
  {
   "cell_type": "code",
   "execution_count": 46,
   "metadata": {},
   "outputs": [
    {
     "data": {
      "text/html": [
       "<div>\n",
       "<style scoped>\n",
       "    .dataframe tbody tr th:only-of-type {\n",
       "        vertical-align: middle;\n",
       "    }\n",
       "\n",
       "    .dataframe tbody tr th {\n",
       "        vertical-align: top;\n",
       "    }\n",
       "\n",
       "    .dataframe thead th {\n",
       "        text-align: right;\n",
       "    }\n",
       "</style>\n",
       "<table border=\"1\" class=\"dataframe\">\n",
       "  <thead>\n",
       "    <tr style=\"text-align: right;\">\n",
       "      <th></th>\n",
       "      <th>Name</th>\n",
       "      <th>Ratings</th>\n",
       "      <th>Metascore</th>\n",
       "      <th>Votes</th>\n",
       "      <th>Gross</th>\n",
       "    </tr>\n",
       "  </thead>\n",
       "  <tbody>\n",
       "    <tr>\n",
       "      <th>290</th>\n",
       "      <td>291.Chalard games goeng(2017)</td>\n",
       "      <td>7.6</td>\n",
       "      <td>None</td>\n",
       "      <td>17873</td>\n",
       "      <td>None</td>\n",
       "    </tr>\n",
       "    <tr>\n",
       "      <th>291</th>\n",
       "      <td>292.My Cousin Rachel(2017)</td>\n",
       "      <td>6.0</td>\n",
       "      <td>63</td>\n",
       "      <td>17789</td>\n",
       "      <td>$2.68M</td>\n",
       "    </tr>\n",
       "    <tr>\n",
       "      <th>292</th>\n",
       "      <td>293.Kamera wo tomeruna!(2017)</td>\n",
       "      <td>7.7</td>\n",
       "      <td>86</td>\n",
       "      <td>17765</td>\n",
       "      <td>None</td>\n",
       "    </tr>\n",
       "    <tr>\n",
       "      <th>293</th>\n",
       "      <td>294.Wheelman(2017)</td>\n",
       "      <td>6.4</td>\n",
       "      <td>66</td>\n",
       "      <td>17639</td>\n",
       "      <td>None</td>\n",
       "    </tr>\n",
       "    <tr>\n",
       "      <th>294</th>\n",
       "      <td>295.Once Upon a Time in Venice(2017)</td>\n",
       "      <td>5.3</td>\n",
       "      <td>28</td>\n",
       "      <td>17602</td>\n",
       "      <td>None</td>\n",
       "    </tr>\n",
       "    <tr>\n",
       "      <th>295</th>\n",
       "      <td>296.Unicorn Store(2017)</td>\n",
       "      <td>5.5</td>\n",
       "      <td>44</td>\n",
       "      <td>17518</td>\n",
       "      <td>None</td>\n",
       "    </tr>\n",
       "    <tr>\n",
       "      <th>296</th>\n",
       "      <td>297. Rick and Morty (2013– )Episode:The Ricksh...</td>\n",
       "      <td>9.6</td>\n",
       "      <td>None</td>\n",
       "      <td>17427</td>\n",
       "      <td>None</td>\n",
       "    </tr>\n",
       "    <tr>\n",
       "      <th>297</th>\n",
       "      <td>298.Naked(I) (2017)</td>\n",
       "      <td>5.4</td>\n",
       "      <td>36</td>\n",
       "      <td>17424</td>\n",
       "      <td>None</td>\n",
       "    </tr>\n",
       "    <tr>\n",
       "      <th>298</th>\n",
       "      <td>299.Jeepers Creepers 3(2017)</td>\n",
       "      <td>3.9</td>\n",
       "      <td>None</td>\n",
       "      <td>17399</td>\n",
       "      <td>$2.24M</td>\n",
       "    </tr>\n",
       "    <tr>\n",
       "      <th>299</th>\n",
       "      <td>300.Mayhem(2017)</td>\n",
       "      <td>6.4</td>\n",
       "      <td>62</td>\n",
       "      <td>17262</td>\n",
       "      <td>None</td>\n",
       "    </tr>\n",
       "  </tbody>\n",
       "</table>\n",
       "</div>"
      ],
      "text/plain": [
       "                                                  Name Ratings Metascore  \\\n",
       "290                      291.Chalard games goeng(2017)     7.6      None   \n",
       "291                         292.My Cousin Rachel(2017)     6.0        63   \n",
       "292                      293.Kamera wo tomeruna!(2017)     7.7        86   \n",
       "293                                 294.Wheelman(2017)     6.4        66   \n",
       "294               295.Once Upon a Time in Venice(2017)     5.3        28   \n",
       "295                            296.Unicorn Store(2017)     5.5        44   \n",
       "296  297. Rick and Morty (2013– )Episode:The Ricksh...     9.6      None   \n",
       "297                                298.Naked(I) (2017)     5.4        36   \n",
       "298                       299.Jeepers Creepers 3(2017)     3.9      None   \n",
       "299                                   300.Mayhem(2017)     6.4        62   \n",
       "\n",
       "     Votes   Gross  \n",
       "290  17873    None  \n",
       "291  17789  $2.68M  \n",
       "292  17765    None  \n",
       "293  17639    None  \n",
       "294  17602    None  \n",
       "295  17518    None  \n",
       "296  17427    None  \n",
       "297  17424    None  \n",
       "298  17399  $2.24M  \n",
       "299  17262    None  "
      ]
     },
     "execution_count": 46,
     "metadata": {},
     "output_type": "execute_result"
    }
   ],
   "source": [
    "import pandas as pd\n",
    "d={'Name':names,'Ratings':ratings,'Metascore':metascores,'Votes':votes,'Gross':gross}\n",
    "df=pd.DataFrame(d)\n",
    "df.tail(10)"
   ]
  },
  {
   "cell_type": "code",
   "execution_count": null,
   "metadata": {},
   "outputs": [],
   "source": []
  }
 ],
 "metadata": {
  "kernelspec": {
   "display_name": "Python 3",
   "language": "python",
   "name": "python3"
  },
  "language_info": {
   "codemirror_mode": {
    "name": "ipython",
    "version": 3
   },
   "file_extension": ".py",
   "mimetype": "text/x-python",
   "name": "python",
   "nbconvert_exporter": "python",
   "pygments_lexer": "ipython3",
   "version": "3.9.0"
  }
 },
 "nbformat": 4,
 "nbformat_minor": 4
}
